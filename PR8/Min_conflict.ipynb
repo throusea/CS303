{
 "cells": [
  {
   "cell_type": "markdown",
   "id": "4c8f3278",
   "metadata": {
    "pycharm": {
     "name": "#%% md\n"
    }
   },
   "source": [
    "# Local Search\n",
    "## Solving N-queen problem with min-conflict algorithm\n",
    "\n",
    "* First generate a complete assignment for all variables (this set of assignments may conflict)\n",
    "\n",
    "* Repeat the following steps until there are no conflicts:\n",
    "\n",
    "    * Randomly Select a variable that causes conflicts\n",
    "    \n",
    "    * Reassign the value of this variable to another value that with the least constraint onflicts with other variables"
   ]
  },
  {
   "cell_type": "code",
   "execution_count": 7,
   "id": "ca7937f5",
   "metadata": {
    "pycharm": {
     "name": "#%%\n"
    }
   },
   "outputs": [],
   "source": [
    "import numpy as np\n",
    "import time\n",
    "\n",
    "\n",
    "def my_range(start, end):\n",
    "    if start <= end:\n",
    "        return range(start, end + 1)\n",
    "    else:\n",
    "        return range(start, end - 1, -1)\n",
    "\n",
    "\n",
    "class Problem:\n",
    "    char_mapping = ('·', 'Q')\n",
    "\n",
    "    def __init__(self, n=4):\n",
    "        self.n = n\n",
    "\n",
    "    def is_valid(self, state):\n",
    "        \"\"\"\n",
    "        check the state satisfy condition or not.\n",
    "        :param state: list of points (in (row id, col id) tuple form)\n",
    "        :return: bool value of valid or not\n",
    "        \"\"\"\n",
    "        board = self.get_board(state)\n",
    "        res = True\n",
    "        for point in state:\n",
    "            i, j = point\n",
    "            condition1 = board[:, j].sum() <= 1\n",
    "            condition2 = board[i, :].sum() <= 1\n",
    "            condition3 = self.pos_slant_condition(board, point)\n",
    "            condition4 = self.neg_slant_condition(board, point)\n",
    "            res = res and condition1 and condition2 and condition3 and condition4\n",
    "            if not res:\n",
    "                break\n",
    "        return res\n",
    "\n",
    "    def is_satisfy(self, state):\n",
    "        return self.is_valid(state) and len(state) == self.n\n",
    "\n",
    "    def next_action(self, point):\n",
    "        i, j = point\n",
    "        if 0 <= i < self.n and 0 <= j < self.n and i * self.n + j < self.n ** 2 - 1:\n",
    "            j += 1\n",
    "            if j == self.n:\n",
    "                j = 0\n",
    "                i += 1\n",
    "            return i, j\n",
    "        else:\n",
    "            return None\n",
    "\n",
    "    def pos_slant_condition(self, board, point):\n",
    "        i, j = point\n",
    "        tmp = min(self.n - i - 1, j)\n",
    "        start = (i + tmp, j - tmp)\n",
    "        tmp = min(i, self.n - j - 1)\n",
    "        end = (i - tmp,  j + tmp)\n",
    "        rows = my_range(start[0], end[0])\n",
    "        cols = my_range(start[1], end[1])\n",
    "        return board[rows, cols].sum() <= 1\n",
    "\n",
    "    def neg_slant_condition(self, board, point):\n",
    "        i, j = point\n",
    "        tmp = min(i, j)\n",
    "        start = (i - tmp, j - tmp)\n",
    "        tmp = min(self.n - i - 1, self.n - j - 1)\n",
    "        end = (i + tmp, j + tmp)\n",
    "        rows = my_range(start[0], end[0])\n",
    "        cols = my_range(start[1], end[1])\n",
    "        return board[rows, cols].sum() <= 1\n",
    "\n",
    "    def get_board(self, state):\n",
    "        board = np.zeros([self.n, self.n], dtype=int)\n",
    "        for point in state:\n",
    "            board[point] = 1\n",
    "        return board\n",
    "\n",
    "    def print_state(self, state):\n",
    "        board = self.get_board(state)\n",
    "        print('_' * (2 * self.n + 1))\n",
    "        for row in board:\n",
    "            for item in row:\n",
    "                print(f'|{Problem.char_mapping[item]}', end='')\n",
    "            print('|')\n",
    "        print('-' * (2 * self.n + 1))"
   ]
  },
  {
   "cell_type": "code",
   "execution_count": 8,
   "id": "1f273f83",
   "metadata": {
    "pycharm": {
     "name": "#%%\n"
    }
   },
   "outputs": [],
   "source": [
    "def min_conflict(problem):\n",
    "    import random\n",
    "    action_stack = []\n",
    "    N = problem.n\n",
    "    col = np.zeros(N, dtype=int)\n",
    "    lob = np.zeros(2*N-1, dtype=int)\n",
    "    rob = np.zeros(2*N-1, dtype=int)\n",
    "    for i in range(N):\n",
    "        c = random.randint(0, N-1)\n",
    "        action_stack.append((i, c))\n",
    "        col[c] += 1\n",
    "        lob[i+c] += 1\n",
    "        rob[N-1-i+c] += 1\n",
    "    while not problem.is_satisfy(action_stack):\n",
    "        cof_list = []\n",
    "        for i in range(N):\n",
    "            pos = action_stack[i]\n",
    "            r = pos[0]; c = pos[1]\n",
    "            if col[c] > 1 or lob[r+c] > 1 or rob[N-1-r+c] > 1:\n",
    "                cof_list.append(i)\n",
    "        i = random.choice(cof_list)\n",
    "        pos = action_stack[i]\n",
    "        r = pos[0]; c = pos[1]\n",
    "        col[c] -= 1\n",
    "        lob[r+c] -= 1\n",
    "        rob[N-1-r+c] -= 1\n",
    "        id = -1\n",
    "        minp = 3*N\n",
    "        for j in range(0, N):\n",
    "            p = col[j]+lob[r+j]+rob[N-1-r+j]\n",
    "            if minp >= p:\n",
    "                minp = p\n",
    "                if id == -1 or minp > p:\n",
    "                    id = j\n",
    "                elif minp == p and random.randint(0, 1) == 1:\n",
    "                    id = j\n",
    "        if id != -1:\n",
    "            action_stack[i] = (r, id)\n",
    "        col[id] += 1\n",
    "        lob[r+id] += 1\n",
    "        rob[N-1-r+id] += 1\n",
    "        yield action_stack"
   ]
  },
  {
   "cell_type": "code",
   "execution_count": 9,
   "id": "d842e89b",
   "metadata": {
    "pycharm": {
     "name": "#%%\n"
    }
   },
   "outputs": [
    {
     "name": "stdout",
     "output_type": "stream",
     "text": [
      "0.06401276588439941\n",
      "_____________________\n",
      "|·|·|·|·|·|·|·|Q|·|·|\n",
      "|Q|·|·|·|·|·|·|·|·|·|\n",
      "|·|·|·|·|Q|·|·|·|·|·|\n",
      "|·|·|·|·|·|·|·|·|Q|·|\n",
      "|·|Q|·|·|·|·|·|·|·|·|\n",
      "|·|·|·|Q|·|·|·|·|·|·|\n",
      "|·|·|·|·|·|·|Q|·|·|·|\n",
      "|·|·|Q|·|·|·|·|·|·|·|\n",
      "|·|·|·|·|·|·|·|·|·|Q|\n",
      "|·|·|·|·|·|Q|·|·|·|·|\n",
      "---------------------\n"
     ]
    }
   ],
   "source": [
    "# test block\n",
    "n = 100\n",
    "render = (n == 15)\n",
    "p = Problem(n)\n",
    "if render:\n",
    "    import pygame\n",
    "\n",
    "    w, h = 90 * n + 10, 90 * n + 10\n",
    "    screen = pygame.display.set_mode((w, h))\n",
    "    screen.fill('white')\n",
    "    action_generator = min_conflict(p)\n",
    "    clk = pygame.time.Clock()\n",
    "    queen_img = pygame.image.load('./queen_s.png')\n",
    "    queen_img = pygame.transform.scale(queen_img, (80, 80))\n",
    "    while True:\n",
    "        for event in pygame.event.get():\n",
    "            if event == pygame.QUIT:\n",
    "                exit()\n",
    "        try:\n",
    "            actions = next(action_generator)\n",
    "            screen.fill('white')\n",
    "            for i in range(n + 1):\n",
    "                pygame.draw.rect(screen, 'black', (i * 90, 0, 10, h))\n",
    "                pygame.draw.rect(screen, 'black', (0, i * 90, w, 10))\n",
    "            for action in actions:\n",
    "                i, j = action\n",
    "                screen.blit(queen_img, (10 + 90 * j, 10 + 90 * i))\n",
    "            pygame.display.flip()\n",
    "        except StopIteration:\n",
    "            pass\n",
    "        clk.tick(5)\n",
    "    pass\n",
    "else:\n",
    "    start_time = time.time()\n",
    "    for actions in min_conflict(p):\n",
    "        pass\n",
    "    print(time.time() - start_time)\n",
    "    p.print_state(actions)"
   ]
  }
 ],
 "metadata": {
  "kernelspec": {
   "display_name": "Python 3.9.13 ('CS303')",
   "language": "python",
   "name": "python3"
  },
  "language_info": {
   "codemirror_mode": {
    "name": "ipython",
    "version": 3
   },
   "file_extension": ".py",
   "mimetype": "text/x-python",
   "name": "python",
   "nbconvert_exporter": "python",
   "pygments_lexer": "ipython3",
   "version": "3.9.13"
  },
  "vscode": {
   "interpreter": {
    "hash": "683ec85fc2561993a816485d411870049fe0f89ce195351c0f13ff767a711139"
   }
  }
 },
 "nbformat": 4,
 "nbformat_minor": 5
}
