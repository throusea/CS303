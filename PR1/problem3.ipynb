{
 "cells": [
  {
   "cell_type": "markdown",
   "metadata": {},
   "source": [
    "### Snake: Simulate a snake game and print the game results.\n",
    "\n",
    "You are given a map that ‘x’ represents a rock, ‘-’represents a space, ‘#’represents the body of snake. ‘@’represent the head of the snake and a sequence of actions that ‘0,1,2,3’represent to move to up/down/left/right correspondingly for one step.\n",
    "A greedy snake starts in the map state and moves one step per unit of time according to the sequence of actions until all actions complete or fail. It will fail when the head and the stone overlap, the head goes beyond the boundary, or the head overlaps the body. \n",
    "\n",
    "#### Input\n",
    "A matrix with type char (the map). \n",
    "A sequence with type int (the motions). \n",
    "\n",
    "#### Output\n",
    "the the result of the game:\n",
    "If it failed, output the running time of the game.\n",
    "It it didn’t fail, output the final position of the head (in the form “%d, %d”)."
   ]
  },
  {
   "cell_type": "code",
   "execution_count": 9,
   "metadata": {},
   "outputs": [
    {
     "data": {
      "text/plain": [
       "'\\nExample:\\ninput:\\nmap:\\n---------\\n------x--\\n-x-------\\n---@-----\\n---##----\\n------x--\\n--x----x-\\n-x-------\\n---------\\naction:\\n0 0 3 3 0 3 3 1 1 1 1 1 3 1 1 2 2 2 2 2\\n\\noutput:\\n7 3\\n'"
      ]
     },
     "execution_count": 9,
     "metadata": {},
     "output_type": "execute_result"
    }
   ],
   "source": [
    "\"\"\"\n",
    "Example:\n",
    "input:\n",
    "map:\n",
    "---------\n",
    "------x--\n",
    "-x-------\n",
    "---@-----\n",
    "---##----\n",
    "------x--\n",
    "--x----x-\n",
    "-x-------\n",
    "---------\n",
    "action:\n",
    "0 0 3 3 0 3 3 1 1 1 1 1 3 1 1 2 2 2 2 2\n",
    "\n",
    "output:\n",
    "7 3\n",
    "\"\"\""
   ]
  },
  {
   "cell_type": "code",
   "execution_count": 10,
   "metadata": {
    "pycharm": {
     "name": "#%%\n"
    }
   },
   "outputs": [
    {
     "name": "stdout",
     "output_type": "stream",
     "text": [
      "[['-', '-', '-', '-', '-', '-', '-', '-', '-'], ['-', '-', '-', '-', '-', '-', 'x', '-', '-'], ['-', 'x', '-', '-', '-', '-', '-', '-', '-'], ['-', '-', '-', '@', '-', '-', '-', '-', '-'], ['-', '-', '-', '#', '#', '-', '-', '-', '-'], ['-', '-', '-', '-', '-', '-', 'x', '-', '-'], ['-', '-', 'x', '-', '-', '-', '-', 'x', '-'], ['-', 'x', '-', '-', '-', '-', '-', '-', '-'], ['-', '-', '-', '-', '-', '-', '-', '-', '-']]\n",
      "[0, 2, 0, 2, 2, 1, 1, 1, 1, 1, 1, 3, 3, 3, 0, 0, 0]\n"
     ]
    }
   ],
   "source": [
    "# test block, you may need to modify this block.\n",
    "test_case = 3\n",
    "with open(f'test_cases/problem3/{test_case}-map.txt', 'r') as f:\n",
    "    game_map = [list(line.strip()) for line in f.readlines()]\n",
    "print(game_map)\n",
    "with open(f'./test_cases/problem3/{test_case}-actions.txt', 'r') as f:\n",
    "    actions = [*map(int, f.read().split(' '))]\n",
    "print(actions)"
   ]
  },
  {
   "cell_type": "code",
   "execution_count": 11,
   "metadata": {},
   "outputs": [],
   "source": [
    "from collections import deque\n",
    "import numpy as np\n",
    "vis = np.zeros((100, 100), dtype=int)\n",
    "q = deque()\n",
    "dx = [0,0,1,-1]\n",
    "dy = [1,-1,0,0]\n",
    "n = len(game_map)\n",
    "m = len(game_map[0])\n",
    "def dfs(x, y):\n",
    "    for i in range(4):\n",
    "        xx = x+dx[i]\n",
    "        yy = y+dy[i]\n",
    "        if xx < 0 | yy < 0:\n",
    "            continue\n",
    "        if xx >= n | yy >= m:\n",
    "            continue\n",
    "        if vis[xx][yy] == 1:\n",
    "            continue\n",
    "        if game_map[xx][yy] == '#':\n",
    "            vis[xx][yy] = 1\n",
    "            q.appendleft((xx, yy))\n",
    "            dfs(xx, yy)"
   ]
  },
  {
   "cell_type": "code",
   "execution_count": 12,
   "metadata": {},
   "outputs": [
    {
     "name": "stdout",
     "output_type": "stream",
     "text": [
      "11\n"
     ]
    }
   ],
   "source": [
    "q.clear()\n",
    "for i in range(n):\n",
    "    for j in range(m):\n",
    "        if game_map[i][j] == '@':\n",
    "            sx = i\n",
    "            sy = j\n",
    "            q.appendleft((sx, sy))\n",
    "            vis[i][j] = 1\n",
    "        if game_map[i][j] == 'x':\n",
    "            vis[i][j] = 1\n",
    "\n",
    "dfs(sx, sy)\n",
    "\n",
    "win = True\n",
    "tim = 0\n",
    "for at in actions:\n",
    "    tim += 1\n",
    "    p = q.pop()\n",
    "    if at == 0:\n",
    "        node = (p[0]-1, p[1])\n",
    "    if at == 1:\n",
    "        node = (p[0]+1, p[1])\n",
    "    if at == 2:\n",
    "        node = (p[0], p[1]-1)\n",
    "    if at == 3:\n",
    "        node = (p[0], p[1]+1)\n",
    "    if vis[node[0]][node[1]] == 1:\n",
    "        win = False\n",
    "        break\n",
    "    if node[0] < 0 or node[0] >= n:\n",
    "        win = False\n",
    "        break\n",
    "    if node[1] < 0 or node[1] >= m:\n",
    "        win = False\n",
    "        break\n",
    "    vis[node[0]][node[1]] = 1\n",
    "    q.append(p)\n",
    "    q.append(node)\n",
    "    r = q.popleft()\n",
    "    vis[r[0]][r[1]] = 0\n",
    "    # print(tim)\n",
    "    # print(node)\n",
    "    # print('action', at)\n",
    "    # for i in range(len(game_map)):\n",
    "    #     for j in range(len(game_map[0])):\n",
    "    #         print(vis[i][j], end='')\n",
    "    #     print()\n",
    "    # print()\n",
    "if win == True:\n",
    "    print(q.pop())\n",
    "else:\n",
    "    print(tim-1)"
   ]
  }
 ],
 "metadata": {
  "kernelspec": {
   "display_name": "Python 3.9.13 ('CS303')",
   "language": "python",
   "name": "python3"
  },
  "language_info": {
   "codemirror_mode": {
    "name": "ipython",
    "version": 3
   },
   "file_extension": ".py",
   "mimetype": "text/x-python",
   "name": "python",
   "nbconvert_exporter": "python",
   "pygments_lexer": "ipython3",
   "version": "3.9.13"
  },
  "vscode": {
   "interpreter": {
    "hash": "683ec85fc2561993a816485d411870049fe0f89ce195351c0f13ff767a711139"
   }
  }
 },
 "nbformat": 4,
 "nbformat_minor": 1
}
